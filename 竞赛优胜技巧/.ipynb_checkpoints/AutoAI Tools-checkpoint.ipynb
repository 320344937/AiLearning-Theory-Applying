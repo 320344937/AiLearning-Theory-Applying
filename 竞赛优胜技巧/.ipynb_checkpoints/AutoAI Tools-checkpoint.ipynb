{
 "cells": [
  {
   "cell_type": "markdown",
   "id": "c32f110a",
   "metadata": {},
   "source": [
    "# 自动机器学习工具\n",
    "该notebook将比较市面上的多个AutoML工具，分别采用两组数据集进行比较，分别是波士顿房价（回归）和森林植被类型（多分类）"
   ]
  },
  {
   "cell_type": "code",
   "execution_count": null,
   "id": "b2143f17",
   "metadata": {},
   "outputs": [],
   "source": []
  }
 ],
 "metadata": {
  "kernelspec": {
   "display_name": "Python 3",
   "language": "python",
   "name": "python3"
  },
  "language_info": {
   "codemirror_mode": {
    "name": "ipython",
    "version": 3
   },
   "file_extension": ".py",
   "mimetype": "text/x-python",
   "name": "python",
   "nbconvert_exporter": "python",
   "pygments_lexer": "ipython3",
   "version": "3.8.8"
  }
 },
 "nbformat": 4,
 "nbformat_minor": 5
}
