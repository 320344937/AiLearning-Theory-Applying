{
 "cells": [
  {
   "cell_type": "markdown",
   "metadata": {},
   "source": [
    "## 任务：京东用户购买意向预测"
   ]
  },
  {
   "cell_type": "markdown",
   "metadata": {},
   "source": [
    "### 故事背景：\n",
    "京东作为中国最大的自营式电商，在保持高速发展的同时，沉淀了数亿的忠实用户，积累了海量的真实数据。如何从历史数据中找出规律，去预测用户未来的购买需求，让最合适的商品遇见最需要的人，是大数据应用在精准营销中的关键问题，也是所有电商平台在做智能化升级时所需要的核心技术。\n",
    "\n",
    "以京东商城真实的用户、商品和行为数据（脱敏后）为基础，通过数据挖掘的技术和机器学习的算法，构建用户购买商品的预测模型，输出高潜用户和目标商品的匹配结果，为精准营销提供高质量的目标群体。\n",
    "\n",
    "目标：使用京东多个品类下商品的历史销售数据，构建算法模型，预测用户在未来5天内，对某个目标品类下商品的购买意向。"
   ]
  },
  {
   "cell_type": "markdown",
   "metadata": {},
   "source": [
    "### 数据集：\n",
    "这里涉及到的数据集是京东的数据集:\n",
    "\n",
    "* JData_User.csv 用户数据集 105,321个用户\n",
    "* JData_Comment.csv 商品评论 558,552条记录\n",
    "* JData_Product.csv 预测商品集合 24,187条记录\n",
    "* JData_Action_201602.csv 2月份行为交互记录 11,485,424条记录\n",
    "* JData_Action_201603.csv 3月份行为交互记录 25,916,378条记录\n",
    "* JData_Action_201604.csv 4月份行为交互记录 13,199,934条记录"
   ]
  },
  {
   "cell_type": "markdown",
   "metadata": {},
   "source": [
    "**JData_User.csv用户数据**\n",
    "\n",
    "|字段|意义|备注|\n",
    "|-|-|-|\n",
    "|user_id|用户id|脱敏|\n",
    "|age|年龄|-1表未知|\n",
    "|sex|性别|0男，1女，2未知|\n",
    "|user_lv_cd|用户等级|级别枚举，越高级别越大|\n",
    "|user_reg_tm|用户注册日期|粒度到天|"
   ]
  },
  {
   "cell_type": "markdown",
   "metadata": {},
   "source": [
    "**JData_Comment.csv评论数据**\n",
    "\n",
    "|字段|意义|备注|\n",
    "|-|-|-|\n",
    "|dt|截止时间|天，到2016-02-01|\n",
    "|sku_id|商品编号|脱敏|\n",
    "|comment_num|累积评论数分段|0表示无评论，1表是1条，2表示2-10条，3表示11-50条，5表示大于50条|\n",
    "|has_bad_comment|是否有差评|0表示无，1表示有|\n",
    "|bad_comment_rate|差评率|差评数占总评论数的比率|"
   ]
  },
  {
   "cell_type": "markdown",
   "metadata": {},
   "source": [
    "**JData_Product.csv商品数据**\n",
    "\n",
    "|字段|意义|备注|\n",
    "|-|-|-|\n",
    "|sku_id|商品编号|脱敏|\n",
    "|a1|属性1|枚举，-1表未知|\n",
    "|a2|属性2|枚举，-1表未知|\n",
    "|a3|属性3|枚举，-1表未知|\n",
    "|cate|品牌ID|脱敏|\n",
    "|brand|品牌ID|脱敏|"
   ]
  },
  {
   "cell_type": "markdown",
   "metadata": {},
   "source": [
    "**JData_Action_xx.csv商品数据**\n",
    "\n",
    "|字段|意义|备注|\n",
    "|-|-|-|\n",
    "|user_id|用户ID|脱敏|\n",
    "|sku_id|商品编号|脱敏|\n",
    "|time|行为时间||\n",
    "|model_id|点击板块的编号|脱敏|\n",
    "|type|行为类型|1.浏览商品详情页;2.加入购物车;3.购物车删除;4.下单;5.关注;6.点击;|\n",
    "|cate|品牌ID|脱敏|\n",
    "|brand|品牌ID|脱敏|"
   ]
  },
  {
   "cell_type": "markdown",
   "metadata": {},
   "source": [
    "### 数据挖掘流程：\n",
    "（一）.数据清洗\n",
    "1. 数据集完整性验证\n",
    "2. 数据集中是否存在缺失值\n",
    "3. 数据集中各特征数值应该如何处理\n",
    "4. 哪些数据是我们想要的，哪些是可以过滤掉的\n",
    "5. 将有价值数据信息做成新的数据源\n",
    "6. 去除无行为交互的商品和用户\n",
    "7. 去掉浏览量很大而购买量很少的用户(惰性用户或爬虫用户)\n",
    "\n",
    "（二）.数据理解与分析\n",
    "1. 掌握各个特征的含义\n",
    "2. 观察数据有哪些特点，是否可利用来建模\n",
    "3. 可视化展示便于分析\n",
    "4. 用户的购买意向是否随着时间等因素变化\n",
    "（三）.特征提取\n",
    "1. 基于清洗后的数据集哪些特征是有价值\n",
    "2. 分别对用户与商品以及其之间构成的行为进行特征提取\n",
    "3. 行为因素中哪些是核心？如何提取？\n",
    "4. 瞬时行为特征or累计行为特征？\n",
    "\n",
    "（四）.模型建立\n",
    "1. 使用机器学习算法进行预测\n",
    "2. 参数设置与调节\n",
    "3. 数据集切分"
   ]
  },
  {
   "cell_type": "code",
   "execution_count": null,
   "metadata": {},
   "outputs": [],
   "source": []
  }
 ],
 "metadata": {
  "kernelspec": {
   "display_name": "Python 3",
   "language": "python",
   "name": "python3"
  },
  "language_info": {
   "codemirror_mode": {
    "name": "ipython",
    "version": 3
   },
   "file_extension": ".py",
   "mimetype": "text/x-python",
   "name": "python",
   "nbconvert_exporter": "python",
   "pygments_lexer": "ipython3",
   "version": "3.7.3"
  }
 },
 "nbformat": 4,
 "nbformat_minor": 2
}
